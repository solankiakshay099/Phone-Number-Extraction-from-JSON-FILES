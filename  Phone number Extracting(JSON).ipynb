{
 "cells": [
  {
   "cell_type": "markdown",
   "id": "bc138650",
   "metadata": {},
   "source": [
    "# Extracting Phone number from JSON files"
   ]
  },
  {
   "cell_type": "code",
   "execution_count": 2,
   "id": "5c7c596f",
   "metadata": {},
   "outputs": [],
   "source": [
    "import json\n",
    "import os as os\n",
    "import pandas as pd\n",
    "path='File_Directory(file_path)'\n",
    "\n",
    "list_of_paths=get_file(path)\n",
    "def get_file(path):\n",
    "    files=[]\n",
    "    file_list=[]\n",
    "    #r=root, d=directory, f=files\n",
    "    for r,d,f in os.walk(path):\n",
    "        for file in f:\n",
    "            if '.json' in file:\n",
    "                files.append(os.path.join(r,file))\n",
    "    for f in files:\n",
    "        \n",
    "        file_list.append(f)\n",
    "    return file_list\n",
    "\n",
    "mob1=[]\n",
    "mob2=[]\n",
    "for i in list_of_paths:\n",
    "    with open(i,'r') as f:\n",
    "        docs=json.loads(f.read())\n",
    "    number1=''\n",
    "    dic1 = docs['messages'][0]\n",
    "    dic2 = docs['messages'][1]\n",
    "    for i in dic1['msg']:\n",
    "        if i.isdigit():\n",
    "            number1+=i\n",
    "    mob1.append(number1)\n",
    "    number2=''\n",
    "    for j in dic2['msg']:\n",
    "        if j.isdigit():\n",
    "            number2+=j\n",
    "    mob2.append(number2)\n",
    "df = pd.DataFrame.from_dict({'Yoshops':mob1,'Customers':mob2})\n",
    "df.to_excel('test.xlsx', header=True, index=False)"
   ]
  }
 ],
 "metadata": {
  "kernelspec": {
   "display_name": "Python 3 (ipykernel)",
   "language": "python",
   "name": "python3"
  },
  "language_info": {
   "codemirror_mode": {
    "name": "ipython",
    "version": 3
   },
   "file_extension": ".py",
   "mimetype": "text/x-python",
   "name": "python",
   "nbconvert_exporter": "python",
   "pygments_lexer": "ipython3",
   "version": "3.9.7"
  }
 },
 "nbformat": 4,
 "nbformat_minor": 5
}
